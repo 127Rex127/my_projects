{
 "cells": [
  {
   "cell_type": "code",
   "execution_count": 6,
   "id": "c1db1a90-7aa8-4b33-baa0-1a4ca91e1286",
   "metadata": {},
   "outputs": [],
   "source": [
    "def square_area(length):\n",
    "    total_area = length**2\n",
    "    return total_area"
   ]
  },
  {
   "cell_type": "code",
   "execution_count": 9,
   "id": "75313f49-614b-4637-80ee-7dd34c1fdc12",
   "metadata": {},
   "outputs": [
    {
     "data": {
      "text/plain": [
       "11025"
      ]
     },
     "execution_count": 9,
     "metadata": {},
     "output_type": "execute_result"
    }
   ],
   "source": [
    "square_area(105)"
   ]
  },
  {
   "cell_type": "code",
   "execution_count": null,
   "id": "e61e5a65-54fd-442a-853a-e095c7db2ff5",
   "metadata": {},
   "outputs": [],
   "source": []
  }
 ],
 "metadata": {
  "kernelspec": {
   "display_name": "Python [conda env:base] *",
   "language": "python",
   "name": "conda-base-py"
  },
  "language_info": {
   "codemirror_mode": {
    "name": "ipython",
    "version": 3
   },
   "file_extension": ".py",
   "mimetype": "text/x-python",
   "name": "python",
   "nbconvert_exporter": "python",
   "pygments_lexer": "ipython3",
   "version": "3.12.7"
  }
 },
 "nbformat": 4,
 "nbformat_minor": 5
}
