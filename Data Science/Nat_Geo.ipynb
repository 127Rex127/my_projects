{
 "cells": [
  {
   "cell_type": "code",
   "execution_count": 2,
   "id": "c532e881-7922-499f-a1ce-1bf12062938b",
   "metadata": {},
   "outputs": [],
   "source": [
    "import requests"
   ]
  },
  {
   "cell_type": "code",
   "execution_count": 4,
   "id": "ecf751ea-d000-484d-bd1e-330e2c48e144",
   "metadata": {},
   "outputs": [],
   "source": [
    "from bs4 import BeautifulSoup as bs"
   ]
  },
  {
   "cell_type": "code",
   "execution_count": 8,
   "id": "4513bb36-b694-4916-bb31-1e982e5f4678",
   "metadata": {},
   "outputs": [],
   "source": [
    "url = 'https://www.nationalgeographic.com/animals'"
   ]
  },
  {
   "cell_type": "code",
   "execution_count": 10,
   "id": "c8e38097-368d-49e3-93a2-feb7860a4af5",
   "metadata": {},
   "outputs": [],
   "source": [
    "html_content = requests.get(url).content"
   ]
  },
  {
   "cell_type": "code",
   "execution_count": 12,
   "id": "eb0c5960-2366-49cd-b505-69ba8a9492f9",
   "metadata": {},
   "outputs": [],
   "source": [
    "soup = bs(html_content,'html.parser')"
   ]
  },
  {
   "cell_type": "code",
   "execution_count": 14,
   "id": "fd68a8f0-943a-499a-9dba-b7821dfd0554",
   "metadata": {},
   "outputs": [],
   "source": [
    "headline_html = soup.find_all('span',{'class':'sr-only'})"
   ]
  },
  {
   "cell_type": "code",
   "execution_count": 16,
   "id": "3c0e25a0-b454-427f-8ed2-38e9ce0a107e",
   "metadata": {
    "collapsed": true,
    "jupyter": {
     "outputs_hidden": true
    }
   },
   "outputs": [
    {
     "data": {
      "text/plain": [
       "[<span class=\"sr-only\">How to stay safe if you're swimming with sharks</span>,\n",
       " <span class=\"sr-only\">Ticks are taking over city parks. Here's how to avoid them.</span>,\n",
       " <span class=\"sr-only\">After 41 years in captivity, this sea turtle is swimming home</span>,\n",
       " <span class=\"sr-only\">Why wolf poaching is increasing in the U.S.</span>,\n",
       " <span class=\"sr-only\">This creature can 3D-print its own body parts</span>,\n",
       " <span class=\"sr-only\">A roadrunner in your neighborhood? It's a growing possibility.</span>,\n",
       " <span class=\"sr-only\">Rome’s dolphins are fighting each other</span>,\n",
       " <span class=\"sr-only\">These dolphins have orca friends—but may have an ulterior motive</span>,\n",
       " <span class=\"sr-only\">The unlikely comeback of America’s most endangered songbird</span>,\n",
       " <span class=\"sr-only\">Free Asha. Or cage her?</span>,\n",
       " <span class=\"sr-only\">The secret to early animal sketches? Butterfly dust</span>,\n",
       " <span class=\"sr-only\">Do dogs need people to survive? The truth might hurt.</span>,\n",
       " <span class=\"sr-only\">We've never seen this rare squid alive in the wild—until now</span>,\n",
       " <span class=\"sr-only\">The surprisingly relatable reason why some birds get cranky</span>,\n",
       " <span class=\"sr-only\">Koala moms make their kids eat poo. It’s for their own good.</span>]"
      ]
     },
     "execution_count": 16,
     "metadata": {},
     "output_type": "execute_result"
    }
   ],
   "source": [
    "headline_html"
   ]
  },
  {
   "cell_type": "code",
   "execution_count": 18,
   "id": "3c35eab6-181a-41c4-9a0b-15a31d51f00a",
   "metadata": {},
   "outputs": [
    {
     "name": "stdout",
     "output_type": "stream",
     "text": [
      "How to stay safe if you're swimming with sharks\n",
      "Ticks are taking over city parks. Here's how to avoid them.\n",
      "After 41 years in captivity, this sea turtle is swimming home\n",
      "Why wolf poaching is increasing in the U.S.\n",
      "This creature can 3D-print its own body parts\n",
      "A roadrunner in your neighborhood? It's a growing possibility.\n",
      "Rome’s dolphins are fighting each other\n",
      "These dolphins have orca friends—but may have an ulterior motive\n",
      "The unlikely comeback of America’s most endangered songbird\n",
      "Free Asha. Or cage her?\n",
      "The secret to early animal sketches? Butterfly dust\n",
      "Do dogs need people to survive? The truth might hurt.\n",
      "We've never seen this rare squid alive in the wild—until now\n",
      "The surprisingly relatable reason why some birds get cranky\n",
      "Koala moms make their kids eat poo. It’s for their own good.\n"
     ]
    }
   ],
   "source": [
    "for i in headline_html:\n",
    "    print(i.get_text())"
   ]
  },
  {
   "cell_type": "code",
   "execution_count": 22,
   "id": "d53c8f19-9f38-4928-a9e1-49546a8927f3",
   "metadata": {},
   "outputs": [],
   "source": [
    "def add(a,b,c):\n",
    "    return a+b*c"
   ]
  },
  {
   "cell_type": "code",
   "execution_count": 24,
   "id": "6162e2dd-9ece-4464-96b6-016ce70470db",
   "metadata": {},
   "outputs": [
    {
     "data": {
      "text/plain": [
       "7"
      ]
     },
     "execution_count": 24,
     "metadata": {},
     "output_type": "execute_result"
    }
   ],
   "source": [
    "add(1,2,3)"
   ]
  },
  {
   "cell_type": "code",
   "execution_count": null,
   "id": "c8034e48-e390-4620-b3a1-d3f067e9208a",
   "metadata": {},
   "outputs": [],
   "source": []
  }
 ],
 "metadata": {
  "kernelspec": {
   "display_name": "Python [conda env:base] *",
   "language": "python",
   "name": "conda-base-py"
  },
  "language_info": {
   "codemirror_mode": {
    "name": "ipython",
    "version": 3
   },
   "file_extension": ".py",
   "mimetype": "text/x-python",
   "name": "python",
   "nbconvert_exporter": "python",
   "pygments_lexer": "ipython3",
   "version": "3.12.7"
  }
 },
 "nbformat": 4,
 "nbformat_minor": 5
}
