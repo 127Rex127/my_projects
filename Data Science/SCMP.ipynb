{
 "cells": [
  {
   "cell_type": "code",
   "execution_count": 30,
   "id": "89cc8609-a799-4273-9661-c11cb9b691d0",
   "metadata": {},
   "outputs": [],
   "source": [
    "import requests"
   ]
  },
  {
   "cell_type": "code",
   "execution_count": 32,
   "id": "324e434b-244c-4236-b7b6-758a1242e32a",
   "metadata": {},
   "outputs": [],
   "source": [
    "from bs4 import BeautifulSoup as bs"
   ]
  },
  {
   "cell_type": "code",
   "execution_count": 34,
   "id": "3f33e116-0e6c-4792-9446-44f0fe8cc3bb",
   "metadata": {},
   "outputs": [],
   "source": [
    "url = 'https://www.scmp.com'"
   ]
  },
  {
   "cell_type": "code",
   "execution_count": 36,
   "id": "5cdc75c8-74bf-4d39-a479-9c20e1e1257b",
   "metadata": {
    "scrolled": true
   },
   "outputs": [],
   "source": [
    "html_content = requests.get(url).content"
   ]
  },
  {
   "cell_type": "code",
   "execution_count": 37,
   "id": "d9bc6452-5bd4-46bc-963d-2bc8d6b2aab7",
   "metadata": {},
   "outputs": [],
   "source": [
    "soup = bs(html_content,'html.parser')"
   ]
  },
  {
   "cell_type": "code",
   "execution_count": 46,
   "id": "7752016d-12cc-452e-9d6b-a62618a60292",
   "metadata": {},
   "outputs": [],
   "source": [
    "headline_html = soup.find_all('span',{'data-qa':'ContentHeadline-Headline'})"
   ]
  },
  {
   "cell_type": "code",
   "execution_count": 48,
   "id": "8266f6a6-d01c-426c-bffc-36d0ec3e6a8d",
   "metadata": {
    "collapsed": true,
    "jupyter": {
     "outputs_hidden": true
    }
   },
   "outputs": [
    {
     "data": {
      "text/plain": [
       "[<span class=\"css-0 e298i0d2\" data-qa=\"ContentHeadline-Headline\">‘Better than expected’: Chinese firms in Vietnam upbeat over US tariff deal</span>,\n",
       " <span class=\"css-0 e298i0d2\" data-qa=\"ContentHeadline-Headline\" data-skip-highlight=\"true\">Trump reaches Vietnam trade deal with 20% import tariff</span>,\n",
       " <span class=\"css-0 e298i0d2\" data-qa=\"ContentHeadline-Headline\" data-skip-highlight=\"false\">Tech war: US lifts export control of chip design software to China</span>,\n",
       " <span class=\"css-0 e298i0d2\" data-qa=\"ContentHeadline-Headline\" data-skip-highlight=\"false\">China’s 500-megawatt turbine in Tibet marks hydropower breakthrough</span>,\n",
       " <span class=\"css-0 e298i0d2\" data-qa=\"ContentHeadline-Headline\" data-skip-highlight=\"false\">Europe has many challenges but none come from China, Wang Yi tells EU</span>,\n",
       " <span class=\"css-0 e298i0d2\" data-qa=\"ContentHeadline-Headline\">Armenia looks to deepen ties with China for foreign policy beyond Russia</span>,\n",
       " <span class=\"css-0 e298i0d2\" data-qa=\"ContentHeadline-Headline\">Chinese team creates blockchain tech to resist attacks from quantum computers</span>,\n",
       " <span class=\"css-0 e298i0d2\" data-qa=\"ContentHeadline-Headline\" data-skip-highlight=\"false\">China flight safety in spotlight after pilot jumps to death over work dispute</span>,\n",
       " <span class=\"css-0 e298i0d2\" data-qa=\"ContentHeadline-Headline\" data-skip-highlight=\"false\">Johor-Singapore SEZ eyes Indonesia for expanded investment zone: trade minister</span>,\n",
       " <span class=\"css-0 e298i0d2\" data-qa=\"ContentHeadline-Headline\">Meet the Type 055 – multi-role destroyers steering China’s blue-water navy goals</span>,\n",
       " <span class=\"css-0 e298i0d2\" data-qa=\"ContentHeadline-Headline\" data-skip-highlight=\"false\">Chinese stocks to stagnate in second half on lack of catalysts, top brokerages say</span>,\n",
       " <span class=\"css-0 e298i0d2\" data-qa=\"ContentHeadline-Headline\" data-skip-highlight=\"false\">Philippines to view maritime rows with China as ‘one theatre’, partner Japan</span>,\n",
       " <span class=\"css-0 e298i0d2\" data-qa=\"ContentHeadline-Headline\" data-skip-highlight=\"false\">4 dead, 30 missing after Indonesian ferry capsizes near Bali</span>,\n",
       " <span class=\"css-0 e298i0d2\" data-qa=\"ContentHeadline-Headline\">Cantonese cuisine in New York, advice on ageing well: 7 Lifestyle highlights</span>,\n",
       " <span class=\"css-0 e298i0d2\" data-qa=\"ContentHeadline-Headline\" data-skip-highlight=\"false\">New memoir reveals Lee Kuan Yew’s respectful strategy for China relations</span>,\n",
       " <span class=\"css-0 e298i0d2\" data-qa=\"ContentHeadline-Headline\" data-skip-highlight=\"false\">Hong Kong tourists undeterred by prediction that quake will hit Japan on July 5</span>,\n",
       " <span class=\"css-0 e298i0d2\" data-qa=\"ContentHeadline-Headline\" data-skip-highlight=\"false\">Director of Gaza’s Indonesian Hospital killed in Israeli strike</span>,\n",
       " <span class=\"css-0 e298i0d2\" data-qa=\"ContentHeadline-Headline\">2032 Brisbane Olympics: US$2.25 billion funding confirmed for Games venues</span>,\n",
       " <span class=\"css-0 e298i0d2\" data-qa=\"ContentHeadline-Headline\" data-skip-highlight=\"false\">Did South Korea’s Yoon order drones into Pyongyang to justify martial law?</span>,\n",
       " <span class=\"css-0 e298i0d2\" data-qa=\"ContentHeadline-Headline\" data-skip-highlight=\"false\">Giant object from deep space spotted blazing through our solar system</span>,\n",
       " <span class=\"css-0 e298i0d2\" data-qa=\"ContentHeadline-Headline\">Wanted: a ceasefire in Gaza</span>,\n",
       " <span class=\"css-0 e298i0d2\" data-qa=\"ContentHeadline-Headline\">How Hong Kong can win race to become world’s tokenisation hub</span>,\n",
       " <span class=\"css-0 e298i0d2\" data-qa=\"ContentHeadline-Headline\">Taking care of yourself beyond health – planning ahead</span>,\n",
       " <span class=\"css-0 e298i0d2\" data-qa=\"ContentHeadline-Headline\">Why Central Asia plays a growing role in China’s strategic calculus</span>,\n",
       " <span class=\"css-0 e298i0d2\" data-qa=\"ContentHeadline-Headline\">Time ripe for Hong Kong to gradually lift ban on Japanese seafood</span>,\n",
       " <span class=\"css-0 e298i0d2\" data-qa=\"ContentHeadline-Headline\">Strikes and shootings kill 82 in Gaza, including many waiting for aid</span>,\n",
       " <span class=\"css-0 e298i0d2\" data-qa=\"ContentHeadline-Headline\">Johor-Singapore SEZ eyes Indonesia for expanded investment zone: trade minister</span>,\n",
       " <span class=\"css-0 e298i0d2\" data-qa=\"ContentHeadline-Headline\">Hong Kong lawmakers may face suspension, pay cut under proposed misconduct rules</span>,\n",
       " <span class=\"css-0 e298i0d2\" data-qa=\"ContentHeadline-Headline\">Chinese stocks to stagnate in second half on lack of catalysts, top brokerages say</span>,\n",
       " <span class=\"css-0 e298i0d2\" data-qa=\"ContentHeadline-Headline\">China flight safety in spotlight after pilot jumps to death over work dispute</span>,\n",
       " <span class=\"css-0 e298i0d2\" data-qa=\"ContentHeadline-Headline\">From land to sea: top spots to get a glimpse of the Shandong in Hong Kong</span>,\n",
       " <span class=\"css-0 e298i0d2\" data-qa=\"ContentHeadline-Headline\">Chinese sellers bracing as Amazon Prime Day sale and tariff pressure to collide</span>,\n",
       " <span class=\"css-0 e298i0d2\" data-qa=\"ContentHeadline-Headline\" data-skip-highlight=\"true\">Why China’s yuan is forecast to keep strengthening against the US dollar</span>,\n",
       " <span class=\"css-0 e298i0d2\" data-qa=\"ContentHeadline-Headline\" data-skip-highlight=\"true\">Why China sees US trade deals with partners as a threat – and how it could react</span>,\n",
       " <span class=\"css-0 e298i0d2\" data-qa=\"ContentHeadline-Headline\">History tells us US-China ties will survive current rupture: Neysun Mahboubi</span>,\n",
       " <span class=\"css-0 e298i0d2\" data-qa=\"ContentHeadline-Headline\" data-skip-highlight=\"false\">Veteran banker Jin Liqun on leading AIIB during its formative first 10 years</span>,\n",
       " <span class=\"css-0 e298i0d2\" data-qa=\"ContentHeadline-Headline\" data-skip-highlight=\"false\">Trump and Xi to act tough but won’t allow free fall in US-China ties: Ryan Hass</span>,\n",
       " <span class=\"css-0 e298i0d2\" data-qa=\"ContentHeadline-Headline\" data-skip-highlight=\"false\">Is the US dollar’s decline inevitable? Kenneth Rogoff and Yu Yongding weigh in</span>,\n",
       " <span class=\"css-0 e298i0d2\" data-qa=\"ContentHeadline-Headline\">Huawei to open-source self-developed programming language Cangjie</span>,\n",
       " <span class=\"css-0 e298i0d2\" data-qa=\"ContentHeadline-Headline\" data-skip-highlight=\"false\">Tech war: US lifts export control of chip design software to China</span>,\n",
       " <span class=\"css-0 e298i0d2\" data-qa=\"ContentHeadline-Headline\" data-skip-highlight=\"false\">Has Apple been trapped by China? Not so fast, analysts say</span>,\n",
       " <span class=\"css-0 e298i0d2\" data-qa=\"ContentHeadline-Headline\" data-skip-highlight=\"false\">China AI champion Baidu rolls out sweeping changes to online search platform</span>,\n",
       " <span class=\"css-0 e298i0d2\" data-qa=\"ContentHeadline-Headline\">Chinese aircraft carrier’s visit shows national security ‘rock-solid’: John Lee</span>,\n",
       " <span class=\"css-0 e298i0d2\" data-qa=\"ContentHeadline-Headline\" data-skip-highlight=\"false\">Trump has a US$30 billion plan to match China at shipbuilding. Can he win?</span>,\n",
       " <span class=\"css-0 e298i0d2\" data-qa=\"ContentHeadline-Headline\" data-skip-highlight=\"false\">Potential Taiwan clash on the line as PLA, US military develop new fighter jets</span>,\n",
       " <span class=\"css-0 e298i0d2\" data-qa=\"ContentHeadline-Headline\" data-skip-highlight=\"false\">Trump’s Golden Dome: will the numbers add up to deter China in the Indo-Pacific?</span>]"
      ]
     },
     "execution_count": 48,
     "metadata": {},
     "output_type": "execute_result"
    }
   ],
   "source": [
    "headline_html"
   ]
  },
  {
   "cell_type": "code",
   "execution_count": 54,
   "id": "3746a1d7-0137-43d4-907e-bb56145317f6",
   "metadata": {},
   "outputs": [],
   "source": [
    "subtitle_html = soup.find_all('h3',{'data-qa':'ContentSummary-ContainerWithTag'})"
   ]
  },
  {
   "cell_type": "code",
   "execution_count": 56,
   "id": "25b00e80-8549-454f-9279-928b59c3129f",
   "metadata": {
    "collapsed": true,
    "jupyter": {
     "outputs_hidden": true
    }
   },
   "outputs": [
    {
     "data": {
      "text/plain": [
       "[<h3 class=\"css-onn2v5 eitajqu2\" data-qa=\"ContentSummary-ContainerWithTag\">Many Chinese manufacturers now plan to continue operating in Vietnam, after the US agreed to lower its tariffs on the country’s goods to 20 per cent.\n",
       " </h3>,\n",
       " <h3 class=\"css-onn2v5 eitajqu2\" data-qa=\"ContentSummary-ContainerWithTag\">Siemens, Synopsys and Cadence – three of the world’s largest EDA software developers – are set to resume sales to China.\n",
       " </h3>,\n",
       " <h3 class=\"css-onn2v5 eitajqu2\" data-qa=\"ContentSummary-ContainerWithTag\">With two of the turbines, Datang Zala Hydropower Station will generate as much power as burning 1.3 million tonnes of coal every year.\n",
       " </h3>,\n",
       " <h3 class=\"css-onn2v5 eitajqu2\" data-qa=\"ContentSummary-ContainerWithTag\">Top EU diplomat Kaja Kallas urges concrete solutions to rebalance economic ties and calls on China to end restrictions on rare earth exports.\n",
       " </h3>,\n",
       " <h3 class=\"css-onn2v5 eitajqu2\" data-qa=\"ContentSummary-ContainerWithTag\">Their system – known as EQAS – replaces vulnerable maths-based encryption with a signature tool that’s more secure.\n",
       " </h3>,\n",
       " <h3 class=\"css-onn2v5 eitajqu2\" data-qa=\"ContentSummary-ContainerWithTag\">Police investigating after China Southern Airlines captain leaps from building following stabbings over failed evaluation.\n",
       " </h3>,\n",
       " <h3 class=\"css-onn2v5 eitajqu2\" data-qa=\"ContentSummary-ContainerWithTag\">Singapore Trade Minister Gan Kim Yong revealed plans to include Indonesia in the Johor-Singapore SEZ to attract investment amid shifting trade dynamics, US tariffs.\n",
       " </h3>,\n",
       " <h3 class=\"css-onn2v5 eitajqu2\" data-qa=\"ContentSummary-ContainerWithTag\">Rolex’s Perpetual Planet Initiative supports the conservationist’s work which sparks discussions and action needed to protect the oceans.\n",
       " </h3>,\n",
       " <h3 class=\"css-onn2v5 eitajqu2\" data-qa=\"ContentSummary-ContainerWithTag\">Eight of the stealth vessels are already in service and more are on the way.\n",
       " </h3>,\n",
       " <h3 class=\"css-onn2v5 eitajqu2\" data-qa=\"ContentSummary-ContainerWithTag\">For now, yuan-denominated stocks ‘are fairly valued’, analyst says, amid deflationary trend and sluggish earnings growth.\n",
       " </h3>,\n",
       " <h3 class=\"css-onn2v5 eitajqu2\" data-qa=\"ContentSummary-ContainerWithTag\">Strategy will treat the East and South China seas as a unified theatre of operations as regional allies align against Beijing’s growing influence.\n",
       " </h3>,\n",
       " <h3 class=\"css-onn2v5 eitajqu2\" data-qa=\"ContentSummary-ContainerWithTag\">The boat carrying 65 passengers sank in the Bali Strait as it sailed to the famous holiday destination from Java.\n",
       " </h3>,\n",
       " <h3 class=\"css-onn2v5 eitajqu2\" data-qa=\"ContentSummary-ContainerWithTag\">From a researcher’s advice on how to age well to gifts to avoid in Chinese culture, here are some Lifestyle stories you may have missed.\n",
       " </h3>,\n",
       " <h3 class=\"css-onn2v5 eitajqu2\" data-qa=\"ContentSummary-ContainerWithTag\">Veteran newspaper editor Cheong Yip Seng’s new memoir outlines Lee’s diplomatic skill with China that earned him Beijing’s enduring trust.\n",
       " </h3>,\n",
       " <h3 class=\"css-onn2v5 eitajqu2\" data-qa=\"ContentSummary-ContainerWithTag\">City’s travel agencies have not reported widespread cancellations, even as manga artist’s warning date looms and sets internet abuzz.\n",
       " </h3>,\n",
       " <h3 class=\"css-onn2v5 eitajqu2\" data-qa=\"ContentSummary-ContainerWithTag\">Israeli military says it is reviewing incident after a strike killed Dr Marwan Al-Sultan and his family in their home.\n",
       " </h3>,\n",
       " <h3 class=\"css-onn2v5 eitajqu2\" data-qa=\"ContentSummary-ContainerWithTag\">Organisers welcome ‘significant shift in forward momentum’ as decision clears way for building to begin.\n",
       " </h3>,\n",
       " <h3 class=\"css-onn2v5 eitajqu2\" data-qa=\"ContentSummary-ContainerWithTag\">Secret recording could amount to ‘smoking gun’ that Yoon sought to manufacture crisis to legitimise extending his presidency, observers say.\n",
       " </h3>,\n",
       " <h3 class=\"css-onn2v5 eitajqu2\" data-qa=\"ContentSummary-ContainerWithTag\">Interstellar object headed towards Mars, but poses no threat to Earth, says head of planetary defence at the ESA.\n",
       " </h3>,\n",
       " <h3 class=\"css-onn2v5 eitajqu2\" data-qa=\"ContentSummary-ContainerWithTag\">Retailers say some of the price hikes from Washington’s tariffs are passed on to consumers, but they also have to eat up extra costs to remain competitive.\n",
       " </h3>,\n",
       " <h3 class=\"css-onn2v5 eitajqu2\" data-qa=\"ContentSummary-ContainerWithTag\">The leading academic finds grounds for ‘moderate optimism’ after leading a group of American students on a 10-day tour of China.\n",
       " </h3>,\n",
       " <h3 class=\"css-onn2v5 eitajqu2\" data-qa=\"ContentSummary-ContainerWithTag\">With his tenure as Asian Infrastructure Investment Bank president drawing to a close, the financier surveys the landscape for multilateral development.\n",
       " </h3>,\n",
       " <h3 class=\"css-onn2v5 eitajqu2\" data-qa=\"ContentSummary-ContainerWithTag\">Think tank expert and former diplomat discusses Donald Trump’s approach to China and why his ‘bromance’ with Xi Jinping might be one-sided.\n",
       " </h3>,\n",
       " <h3 class=\"css-onn2v5 eitajqu2\" data-qa=\"ContentSummary-ContainerWithTag\">The two economists reflect on how the Trump administration’s recent actions have harmed the US dollar – and handed China a golden opportunity.\n",
       " </h3>,\n",
       " <h3 class=\"css-onn2v5 eitajqu2\" data-qa=\"ContentSummary-ContainerWithTag\">The language supports general programming for apps on HarmonyOS Next, Huawei’s self-developed platform.\n",
       " </h3>,\n",
       " <h3 class=\"css-onn2v5 eitajqu2\" data-qa=\"ContentSummary-ContainerWithTag\">Siemens, Synopsys and Cadence – three of the world’s largest EDA software developers – are set to resume sales to China.\n",
       " </h3>,\n",
       " <h3 class=\"css-onn2v5 eitajqu2\" data-qa=\"ContentSummary-ContainerWithTag\">Panellists at a think tank event dispute the premise of Patrick McGee’s book, ‘Apple in China: The Capture of the World’s Greatest Company’.\n",
       " </h3>,\n",
       " <h3 class=\"css-onn2v5 eitajqu2\" data-qa=\"ContentSummary-ContainerWithTag\">As an initial effort, Baidu’s search bar was enlarged and turned into a ‘smart box’ that handles more tasks than simple text queries.\n",
       " </h3>,\n",
       " <h3 class=\"css-onn2v5 eitajqu2\" data-qa=\"ContentSummary-ContainerWithTag\">Warship’s visit marks first time one of country’s fully domestically built carriers has made a call at Hong Kong.\n",
       " </h3>,\n",
       " <h3 class=\"css-onn2v5 eitajqu2\" data-qa=\"ContentSummary-ContainerWithTag\">Observers say US may struggle to match China’s fast-growing naval fleet and commercial shipbuilding, even with the support of Asian allies.\n",
       " </h3>,\n",
       " <h3 class=\"css-onn2v5 eitajqu2\" data-qa=\"ContentSummary-ContainerWithTag\">Congress appears to be ‘pushing back’ against the Pentagon’s plans to prioritise the air force’s sixth-gen fighter jet over the navy’s.\n",
       " </h3>,\n",
       " <h3 class=\"css-onn2v5 eitajqu2\" data-qa=\"ContentSummary-ContainerWithTag\">Planned defence system could make it harder for PLA to strike US bases like those in Guam and Okinawa, or warships trying to defend Taiwan.\n",
       " </h3>]"
      ]
     },
     "execution_count": 56,
     "metadata": {},
     "output_type": "execute_result"
    }
   ],
   "source": [
    "subtitle_html"
   ]
  },
  {
   "cell_type": "code",
   "execution_count": 52,
   "id": "cfaed24a-b4f7-4954-8148-bf3afa81bdec",
   "metadata": {
    "collapsed": true,
    "jupyter": {
     "outputs_hidden": true
    }
   },
   "outputs": [
    {
     "name": "stdout",
     "output_type": "stream",
     "text": [
      "‘Better than expected’: Chinese firms in Vietnam upbeat over US tariff deal\n",
      "Trump reaches Vietnam trade deal with 20% import tariff\n",
      "Tech war: US lifts export control of chip design software to China\n",
      "China’s 500-megawatt turbine in Tibet marks hydropower breakthrough\n",
      "Europe has many challenges but none come from China, Wang Yi tells EU\n",
      "Armenia looks to deepen ties with China for foreign policy beyond Russia\n",
      "Chinese team creates blockchain tech to resist attacks from quantum computers\n",
      "China flight safety in spotlight after pilot jumps to death over work dispute\n",
      "Johor-Singapore SEZ eyes Indonesia for expanded investment zone: trade minister\n",
      "Meet the Type 055 – multi-role destroyers steering China’s blue-water navy goals\n",
      "Chinese stocks to stagnate in second half on lack of catalysts, top brokerages say\n",
      "Philippines to view maritime rows with China as ‘one theatre’, partner Japan\n",
      "4 dead, 30 missing after Indonesian ferry capsizes near Bali\n",
      "Cantonese cuisine in New York, advice on ageing well: 7 Lifestyle highlights\n",
      "New memoir reveals Lee Kuan Yew’s respectful strategy for China relations\n",
      "Hong Kong tourists undeterred by prediction that quake will hit Japan on July 5\n",
      "Director of Gaza’s Indonesian Hospital killed in Israeli strike\n",
      "2032 Brisbane Olympics: US$2.25 billion funding confirmed for Games venues\n",
      "Did South Korea’s Yoon order drones into Pyongyang to justify martial law?\n",
      "Giant object from deep space spotted blazing through our solar system\n",
      "Wanted: a ceasefire in Gaza\n",
      "How Hong Kong can win race to become world’s tokenisation hub\n",
      "Taking care of yourself beyond health – planning ahead\n",
      "Why Central Asia plays a growing role in China’s strategic calculus\n",
      "Time ripe for Hong Kong to gradually lift ban on Japanese seafood\n",
      "Strikes and shootings kill 82 in Gaza, including many waiting for aid\n",
      "Johor-Singapore SEZ eyes Indonesia for expanded investment zone: trade minister\n",
      "Hong Kong lawmakers may face suspension, pay cut under proposed misconduct rules\n",
      "Chinese stocks to stagnate in second half on lack of catalysts, top brokerages say\n",
      "China flight safety in spotlight after pilot jumps to death over work dispute\n",
      "From land to sea: top spots to get a glimpse of the Shandong in Hong Kong\n",
      "Chinese sellers bracing as Amazon Prime Day sale and tariff pressure to collide\n",
      "Why China’s yuan is forecast to keep strengthening against the US dollar\n",
      "Why China sees US trade deals with partners as a threat – and how it could react\n",
      "History tells us US-China ties will survive current rupture: Neysun Mahboubi\n",
      "Veteran banker Jin Liqun on leading AIIB during its formative first 10 years\n",
      "Trump and Xi to act tough but won’t allow free fall in US-China ties: Ryan Hass\n",
      "Is the US dollar’s decline inevitable? Kenneth Rogoff and Yu Yongding weigh in\n",
      "Huawei to open-source self-developed programming language Cangjie\n",
      "Tech war: US lifts export control of chip design software to China\n",
      "Has Apple been trapped by China? Not so fast, analysts say\n",
      "China AI champion Baidu rolls out sweeping changes to online search platform\n",
      "Chinese aircraft carrier’s visit shows national security ‘rock-solid’: John Lee\n",
      "Trump has a US$30 billion plan to match China at shipbuilding. Can he win?\n",
      "Potential Taiwan clash on the line as PLA, US military develop new fighter jets\n",
      "Trump’s Golden Dome: will the numbers add up to deter China in the Indo-Pacific?\n"
     ]
    }
   ],
   "source": [
    "for i in headline_html:\n",
    "    print(i.get_text())"
   ]
  },
  {
   "cell_type": "code",
   "execution_count": 58,
   "id": "12cfae7b-a20f-4a97-9ea1-1d1970adf650",
   "metadata": {
    "collapsed": true,
    "jupyter": {
     "outputs_hidden": true
    }
   },
   "outputs": [
    {
     "name": "stdout",
     "output_type": "stream",
     "text": [
      "Many Chinese manufacturers now plan to continue operating in Vietnam, after the US agreed to lower its tariffs on the country’s goods to 20 per cent.\n",
      "\n",
      "Siemens, Synopsys and Cadence – three of the world’s largest EDA software developers – are set to resume sales to China.\n",
      "\n",
      "With two of the turbines, Datang Zala Hydropower Station will generate as much power as burning 1.3 million tonnes of coal every year.\n",
      "\n",
      "Top EU diplomat Kaja Kallas urges concrete solutions to rebalance economic ties and calls on China to end restrictions on rare earth exports.\n",
      "\n",
      "Their system – known as EQAS – replaces vulnerable maths-based encryption with a signature tool that’s more secure.\n",
      "\n",
      "Police investigating after China Southern Airlines captain leaps from building following stabbings over failed evaluation.\n",
      "\n",
      "Singapore Trade Minister Gan Kim Yong revealed plans to include Indonesia in the Johor-Singapore SEZ to attract investment amid shifting trade dynamics, US tariffs.\n",
      "\n",
      "Rolex’s Perpetual Planet Initiative supports the conservationist’s work which sparks discussions and action needed to protect the oceans.\n",
      "\n",
      "Eight of the stealth vessels are already in service and more are on the way.\n",
      "\n",
      "For now, yuan-denominated stocks ‘are fairly valued’, analyst says, amid deflationary trend and sluggish earnings growth.\n",
      "\n",
      "Strategy will treat the East and South China seas as a unified theatre of operations as regional allies align against Beijing’s growing influence.\n",
      "\n",
      "The boat carrying 65 passengers sank in the Bali Strait as it sailed to the famous holiday destination from Java.\n",
      "\n",
      "From a researcher’s advice on how to age well to gifts to avoid in Chinese culture, here are some Lifestyle stories you may have missed.\n",
      "\n",
      "Veteran newspaper editor Cheong Yip Seng’s new memoir outlines Lee’s diplomatic skill with China that earned him Beijing’s enduring trust.\n",
      "\n",
      "City’s travel agencies have not reported widespread cancellations, even as manga artist’s warning date looms and sets internet abuzz.\n",
      "\n",
      "Israeli military says it is reviewing incident after a strike killed Dr Marwan Al-Sultan and his family in their home.\n",
      "\n",
      "Organisers welcome ‘significant shift in forward momentum’ as decision clears way for building to begin.\n",
      "\n",
      "Secret recording could amount to ‘smoking gun’ that Yoon sought to manufacture crisis to legitimise extending his presidency, observers say.\n",
      "\n",
      "Interstellar object headed towards Mars, but poses no threat to Earth, says head of planetary defence at the ESA.\n",
      "\n",
      "Retailers say some of the price hikes from Washington’s tariffs are passed on to consumers, but they also have to eat up extra costs to remain competitive.\n",
      "\n",
      "The leading academic finds grounds for ‘moderate optimism’ after leading a group of American students on a 10-day tour of China.\n",
      "\n",
      "With his tenure as Asian Infrastructure Investment Bank president drawing to a close, the financier surveys the landscape for multilateral development.\n",
      "\n",
      "Think tank expert and former diplomat discusses Donald Trump’s approach to China and why his ‘bromance’ with Xi Jinping might be one-sided.\n",
      "\n",
      "The two economists reflect on how the Trump administration’s recent actions have harmed the US dollar – and handed China a golden opportunity.\n",
      "\n",
      "The language supports general programming for apps on HarmonyOS Next, Huawei’s self-developed platform.\n",
      "\n",
      "Siemens, Synopsys and Cadence – three of the world’s largest EDA software developers – are set to resume sales to China.\n",
      "\n",
      "Panellists at a think tank event dispute the premise of Patrick McGee’s book, ‘Apple in China: The Capture of the World’s Greatest Company’.\n",
      "\n",
      "As an initial effort, Baidu’s search bar was enlarged and turned into a ‘smart box’ that handles more tasks than simple text queries.\n",
      "\n",
      "Warship’s visit marks first time one of country’s fully domestically built carriers has made a call at Hong Kong.\n",
      "\n",
      "Observers say US may struggle to match China’s fast-growing naval fleet and commercial shipbuilding, even with the support of Asian allies.\n",
      "\n",
      "Congress appears to be ‘pushing back’ against the Pentagon’s plans to prioritise the air force’s sixth-gen fighter jet over the navy’s.\n",
      "\n",
      "Planned defence system could make it harder for PLA to strike US bases like those in Guam and Okinawa, or warships trying to defend Taiwan.\n",
      "\n"
     ]
    }
   ],
   "source": [
    "for i in subtitle_html:\n",
    "    print(i.get_text())"
   ]
  },
  {
   "cell_type": "code",
   "execution_count": null,
   "id": "bf05303d-d115-4e46-a5ce-9e18f6717de0",
   "metadata": {},
   "outputs": [],
   "source": []
  },
  {
   "cell_type": "code",
   "execution_count": null,
   "id": "b744f45e-fce9-4a3c-851d-33dd3f98c424",
   "metadata": {},
   "outputs": [],
   "source": []
  },
  {
   "cell_type": "code",
   "execution_count": null,
   "id": "923dc7e8-5df3-4203-905f-b8f9d68b29f1",
   "metadata": {},
   "outputs": [],
   "source": []
  }
 ],
 "metadata": {
  "kernelspec": {
   "display_name": "Python [conda env:base] *",
   "language": "python",
   "name": "conda-base-py"
  },
  "language_info": {
   "codemirror_mode": {
    "name": "ipython",
    "version": 3
   },
   "file_extension": ".py",
   "mimetype": "text/x-python",
   "name": "python",
   "nbconvert_exporter": "python",
   "pygments_lexer": "ipython3",
   "version": "3.12.7"
  }
 },
 "nbformat": 4,
 "nbformat_minor": 5
}
