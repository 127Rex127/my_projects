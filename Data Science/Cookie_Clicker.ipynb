{
 "cells": [
  {
   "cell_type": "code",
   "execution_count": 204,
   "id": "2da19fe8-ce24-4614-84c9-eb8305f01a04",
   "metadata": {},
   "outputs": [],
   "source": [
    "from selenium import webdriver"
   ]
  },
  {
   "cell_type": "code",
   "execution_count": 206,
   "id": "e197955d-d9e7-46ae-b194-bb35d207341b",
   "metadata": {},
   "outputs": [],
   "source": [
    "from selenium.webdriver.common.by import By"
   ]
  },
  {
   "cell_type": "code",
   "execution_count": 208,
   "id": "40ab6b94-14c7-4b07-86ff-ac0de94c9082",
   "metadata": {},
   "outputs": [],
   "source": [
    "import time"
   ]
  },
  {
   "cell_type": "code",
   "execution_count": 222,
   "id": "f7557025-373b-4977-8057-829759f334a1",
   "metadata": {},
   "outputs": [],
   "source": [
    "driver = webdriver.Chrome()\n",
    "driver.get(\"https://cookie-clicker2.com\")\n",
    "time.sleep(3)"
   ]
  },
  {
   "cell_type": "code",
   "execution_count": 224,
   "id": "3b33f78e-c435-417d-9557-0c0dc61c3c58",
   "metadata": {},
   "outputs": [],
   "source": [
    "iframes = driver.find_elements(By.TAG_NAME, \"iframe\")\n",
    "driver.switch_to.frame(iframes[1])"
   ]
  },
  {
   "cell_type": "code",
   "execution_count": 226,
   "id": "9d4416df-2a65-48ed-a2c2-ab8b00a3afe8",
   "metadata": {},
   "outputs": [],
   "source": [
    "nested_iframes = driver.find_elements(By.TAG_NAME, \"iframe\")\n",
    "driver.switch_to.frame(nested_iframes[0])"
   ]
  },
  {
   "cell_type": "code",
   "execution_count": 263,
   "id": "d63d1dcb-c99d-4ba9-95fc-0c78443c6c8d",
   "metadata": {},
   "outputs": [
    {
     "ename": "InvalidSessionIdException",
     "evalue": "Message: invalid session id: session deleted as the browser has closed the connection\nfrom disconnected: Unable to receive message from renderer\n  (Session info: chrome=138.0.7204.101); For documentation on this error, please visit: https://www.selenium.dev/documentation/webdriver/troubleshooting/errors#invalidsessionidexception\nStacktrace:\n0   chromedriver                        0x0000000100e5355c cxxbridge1$str$ptr + 2731064\n1   chromedriver                        0x0000000100e4b454 cxxbridge1$str$ptr + 2698032\n2   chromedriver                        0x000000010099a3f8 cxxbridge1$string$len + 90664\n3   chromedriver                        0x00000001009851fc cxxbridge1$string$len + 4140\n4   chromedriver                        0x0000000100984f74 cxxbridge1$string$len + 3492\n5   chromedriver                        0x0000000100982d2c chromedriver + 191788\n6   chromedriver                        0x00000001009838bc chromedriver + 194748\n7   chromedriver                        0x000000010099fc60 cxxbridge1$string$len + 113296\n8   chromedriver                        0x00000001009a23f4 cxxbridge1$string$len + 123428\n9   chromedriver                        0x00000001009a249c cxxbridge1$string$len + 123596\n10  chromedriver                        0x00000001009e3fd8 cxxbridge1$string$len + 392712\n11  chromedriver                        0x00000001009e598c cxxbridge1$string$len + 399292\n12  chromedriver                        0x00000001009e3a94 cxxbridge1$string$len + 391364\n13  chromedriver                        0x00000001009e29fc cxxbridge1$string$len + 387116\n14  chromedriver                        0x00000001009d7530 cxxbridge1$string$len + 340832\n15  chromedriver                        0x00000001009d6fbc cxxbridge1$string$len + 339436\n16  chromedriver                        0x0000000100a22b1c cxxbridge1$string$len + 649548\n17  chromedriver                        0x00000001009d5a0c cxxbridge1$string$len + 333884\n18  chromedriver                        0x0000000100e165e0 cxxbridge1$str$ptr + 2481340\n19  chromedriver                        0x0000000100e19848 cxxbridge1$str$ptr + 2494244\n20  chromedriver                        0x0000000100df7234 cxxbridge1$str$ptr + 2353424\n21  chromedriver                        0x0000000100e1a104 cxxbridge1$str$ptr + 2496480\n22  chromedriver                        0x0000000100de82e4 cxxbridge1$str$ptr + 2292160\n23  chromedriver                        0x0000000100e39ff8 cxxbridge1$str$ptr + 2627284\n24  chromedriver                        0x0000000100e3a184 cxxbridge1$str$ptr + 2627680\n25  chromedriver                        0x0000000100e4b090 cxxbridge1$str$ptr + 2697068\n26  libsystem_pthread.dylib             0x00000001afe514ec _pthread_start + 148\n27  libsystem_pthread.dylib             0x00000001afe4c2d0 thread_start + 8\n",
     "output_type": "error",
     "traceback": [
      "\u001b[0;31m---------------------------------------------------------------------------\u001b[0m",
      "\u001b[0;31mInvalidSessionIdException\u001b[0m                 Traceback (most recent call last)",
      "Cell \u001b[0;32mIn[263], line 4\u001b[0m\n\u001b[1;32m      1\u001b[0m element \u001b[38;5;241m=\u001b[39m driver\u001b[38;5;241m.\u001b[39mfind_element(By\u001b[38;5;241m.\u001b[39mID,\u001b[38;5;124m\"\u001b[39m\u001b[38;5;124mbigCookie\u001b[39m\u001b[38;5;124m\"\u001b[39m)\n\u001b[1;32m      3\u001b[0m \u001b[38;5;28;01mwhile\u001b[39;00m \u001b[38;5;28;01mTrue\u001b[39;00m:\n\u001b[0;32m----> 4\u001b[0m     element\u001b[38;5;241m.\u001b[39mclick()\n\u001b[1;32m      5\u001b[0m     cookie_number \u001b[38;5;241m=\u001b[39m driver\u001b[38;5;241m.\u001b[39mfind_element(By\u001b[38;5;241m.\u001b[39mID,\u001b[38;5;124m\"\u001b[39m\u001b[38;5;124mcookies\u001b[39m\u001b[38;5;124m\"\u001b[39m)\n\u001b[1;32m      6\u001b[0m     cn \u001b[38;5;241m=\u001b[39m \u001b[38;5;28mint\u001b[39m(cookie_number\u001b[38;5;241m.\u001b[39mtext\u001b[38;5;241m.\u001b[39msplit(\u001b[38;5;124m'\u001b[39m\u001b[38;5;124m \u001b[39m\u001b[38;5;124m'\u001b[39m)[\u001b[38;5;241m0\u001b[39m]\u001b[38;5;241m.\u001b[39mreplace(\u001b[38;5;124m'\u001b[39m\u001b[38;5;124m,\u001b[39m\u001b[38;5;124m'\u001b[39m,\u001b[38;5;124m'\u001b[39m\u001b[38;5;124m'\u001b[39m))\n",
      "File \u001b[0;32m/opt/anaconda3/lib/python3.12/site-packages/selenium/webdriver/remote/webelement.py:120\u001b[0m, in \u001b[0;36mWebElement.click\u001b[0;34m(self)\u001b[0m\n\u001b[1;32m    112\u001b[0m \u001b[38;5;28;01mdef\u001b[39;00m \u001b[38;5;21mclick\u001b[39m(\u001b[38;5;28mself\u001b[39m) \u001b[38;5;241m-\u001b[39m\u001b[38;5;241m>\u001b[39m \u001b[38;5;28;01mNone\u001b[39;00m:\n\u001b[1;32m    113\u001b[0m \u001b[38;5;250m    \u001b[39m\u001b[38;5;124;03m\"\"\"Clicks the element.\u001b[39;00m\n\u001b[1;32m    114\u001b[0m \n\u001b[1;32m    115\u001b[0m \u001b[38;5;124;03m    Example:\u001b[39;00m\n\u001b[0;32m   (...)\u001b[0m\n\u001b[1;32m    118\u001b[0m \u001b[38;5;124;03m    >>> element.click()\u001b[39;00m\n\u001b[1;32m    119\u001b[0m \u001b[38;5;124;03m    \"\"\"\u001b[39;00m\n\u001b[0;32m--> 120\u001b[0m     \u001b[38;5;28mself\u001b[39m\u001b[38;5;241m.\u001b[39m_execute(Command\u001b[38;5;241m.\u001b[39mCLICK_ELEMENT)\n",
      "File \u001b[0;32m/opt/anaconda3/lib/python3.12/site-packages/selenium/webdriver/remote/webelement.py:573\u001b[0m, in \u001b[0;36mWebElement._execute\u001b[0;34m(self, command, params)\u001b[0m\n\u001b[1;32m    571\u001b[0m     params \u001b[38;5;241m=\u001b[39m {}\n\u001b[1;32m    572\u001b[0m params[\u001b[38;5;124m\"\u001b[39m\u001b[38;5;124mid\u001b[39m\u001b[38;5;124m\"\u001b[39m] \u001b[38;5;241m=\u001b[39m \u001b[38;5;28mself\u001b[39m\u001b[38;5;241m.\u001b[39m_id\n\u001b[0;32m--> 573\u001b[0m \u001b[38;5;28;01mreturn\u001b[39;00m \u001b[38;5;28mself\u001b[39m\u001b[38;5;241m.\u001b[39m_parent\u001b[38;5;241m.\u001b[39mexecute(command, params)\n",
      "File \u001b[0;32m/opt/anaconda3/lib/python3.12/site-packages/selenium/webdriver/remote/webdriver.py:454\u001b[0m, in \u001b[0;36mWebDriver.execute\u001b[0;34m(self, driver_command, params)\u001b[0m\n\u001b[1;32m    451\u001b[0m response \u001b[38;5;241m=\u001b[39m cast(RemoteConnection, \u001b[38;5;28mself\u001b[39m\u001b[38;5;241m.\u001b[39mcommand_executor)\u001b[38;5;241m.\u001b[39mexecute(driver_command, params)\n\u001b[1;32m    453\u001b[0m \u001b[38;5;28;01mif\u001b[39;00m response:\n\u001b[0;32m--> 454\u001b[0m     \u001b[38;5;28mself\u001b[39m\u001b[38;5;241m.\u001b[39merror_handler\u001b[38;5;241m.\u001b[39mcheck_response(response)\n\u001b[1;32m    455\u001b[0m     response[\u001b[38;5;124m\"\u001b[39m\u001b[38;5;124mvalue\u001b[39m\u001b[38;5;124m\"\u001b[39m] \u001b[38;5;241m=\u001b[39m \u001b[38;5;28mself\u001b[39m\u001b[38;5;241m.\u001b[39m_unwrap_value(response\u001b[38;5;241m.\u001b[39mget(\u001b[38;5;124m\"\u001b[39m\u001b[38;5;124mvalue\u001b[39m\u001b[38;5;124m\"\u001b[39m, \u001b[38;5;28;01mNone\u001b[39;00m))\n\u001b[1;32m    456\u001b[0m     \u001b[38;5;28;01mreturn\u001b[39;00m response\n",
      "File \u001b[0;32m/opt/anaconda3/lib/python3.12/site-packages/selenium/webdriver/remote/errorhandler.py:232\u001b[0m, in \u001b[0;36mErrorHandler.check_response\u001b[0;34m(self, response)\u001b[0m\n\u001b[1;32m    230\u001b[0m         alert_text \u001b[38;5;241m=\u001b[39m value[\u001b[38;5;124m\"\u001b[39m\u001b[38;5;124malert\u001b[39m\u001b[38;5;124m\"\u001b[39m]\u001b[38;5;241m.\u001b[39mget(\u001b[38;5;124m\"\u001b[39m\u001b[38;5;124mtext\u001b[39m\u001b[38;5;124m\"\u001b[39m)\n\u001b[1;32m    231\u001b[0m     \u001b[38;5;28;01mraise\u001b[39;00m exception_class(message, screen, stacktrace, alert_text)  \u001b[38;5;66;03m# type: ignore[call-arg]  # mypy is not smart enough here\u001b[39;00m\n\u001b[0;32m--> 232\u001b[0m \u001b[38;5;28;01mraise\u001b[39;00m exception_class(message, screen, stacktrace)\n",
      "\u001b[0;31mInvalidSessionIdException\u001b[0m: Message: invalid session id: session deleted as the browser has closed the connection\nfrom disconnected: Unable to receive message from renderer\n  (Session info: chrome=138.0.7204.101); For documentation on this error, please visit: https://www.selenium.dev/documentation/webdriver/troubleshooting/errors#invalidsessionidexception\nStacktrace:\n0   chromedriver                        0x0000000100e5355c cxxbridge1$str$ptr + 2731064\n1   chromedriver                        0x0000000100e4b454 cxxbridge1$str$ptr + 2698032\n2   chromedriver                        0x000000010099a3f8 cxxbridge1$string$len + 90664\n3   chromedriver                        0x00000001009851fc cxxbridge1$string$len + 4140\n4   chromedriver                        0x0000000100984f74 cxxbridge1$string$len + 3492\n5   chromedriver                        0x0000000100982d2c chromedriver + 191788\n6   chromedriver                        0x00000001009838bc chromedriver + 194748\n7   chromedriver                        0x000000010099fc60 cxxbridge1$string$len + 113296\n8   chromedriver                        0x00000001009a23f4 cxxbridge1$string$len + 123428\n9   chromedriver                        0x00000001009a249c cxxbridge1$string$len + 123596\n10  chromedriver                        0x00000001009e3fd8 cxxbridge1$string$len + 392712\n11  chromedriver                        0x00000001009e598c cxxbridge1$string$len + 399292\n12  chromedriver                        0x00000001009e3a94 cxxbridge1$string$len + 391364\n13  chromedriver                        0x00000001009e29fc cxxbridge1$string$len + 387116\n14  chromedriver                        0x00000001009d7530 cxxbridge1$string$len + 340832\n15  chromedriver                        0x00000001009d6fbc cxxbridge1$string$len + 339436\n16  chromedriver                        0x0000000100a22b1c cxxbridge1$string$len + 649548\n17  chromedriver                        0x00000001009d5a0c cxxbridge1$string$len + 333884\n18  chromedriver                        0x0000000100e165e0 cxxbridge1$str$ptr + 2481340\n19  chromedriver                        0x0000000100e19848 cxxbridge1$str$ptr + 2494244\n20  chromedriver                        0x0000000100df7234 cxxbridge1$str$ptr + 2353424\n21  chromedriver                        0x0000000100e1a104 cxxbridge1$str$ptr + 2496480\n22  chromedriver                        0x0000000100de82e4 cxxbridge1$str$ptr + 2292160\n23  chromedriver                        0x0000000100e39ff8 cxxbridge1$str$ptr + 2627284\n24  chromedriver                        0x0000000100e3a184 cxxbridge1$str$ptr + 2627680\n25  chromedriver                        0x0000000100e4b090 cxxbridge1$str$ptr + 2697068\n26  libsystem_pthread.dylib             0x00000001afe514ec _pthread_start + 148\n27  libsystem_pthread.dylib             0x00000001afe4c2d0 thread_start + 8\n"
     ]
    }
   ],
   "source": [
    "element = driver.find_element(By.ID,\"bigCookie\")\n",
    "\n",
    "while True:\n",
    "    element.click()\n",
    "    cookie_number = driver.find_element(By.ID,\"cookies\")\n",
    "    cn = int(cookie_number.text.split(' ')[0].replace(',',''))\n",
    "    cursor_price = driver.find_element(By.ID,\"productPrice0\")\n",
    "    cpr = int(cursor_price.text.replace(',',''))\n",
    "    grandma_price = driver.find_element(By.ID,\"productPrice1\")\n",
    "    gpr = int(grandma_price.text.replace(',',''))\n",
    "    farm_price = driver.find_element(By.ID,\"productPrice2\")\n",
    "    fpr = 1100\n",
    "    mine_price = driver.find_element(By.ID,\"productPrice3\")\n",
    "    mpr = 12000\n",
    "    factory_price = driver.find_element(By.ID,\"productPrice4\")\n",
    "    fcpr = 130000\n",
    "    \n",
    "    if farm_price.text == '':\n",
    "        pass\n",
    "    else:\n",
    "        fptr = farm_price.text.replace(',','')\n",
    "        fpr = int(fptr)\n",
    "\n",
    "    if mine_price.text == '':\n",
    "        pass\n",
    "    else:\n",
    "        mptr = mine_price.text.replace(',','')\n",
    "        mpr = int(mptr)\n",
    "        \n",
    "    if factory_price.text == '':\n",
    "        pass\n",
    "    else:\n",
    "        fcptr = factory_price.text.replace(',','')\n",
    "        fcpr = int(fcptr)\n",
    "    \n",
    "    if cn>cpr:\n",
    "        cursor = driver.find_element(By.ID,\"product0\")\n",
    "        cursor.click()\n",
    "    if cn>gpr:\n",
    "        grandma = driver.find_element(By.ID,\"product1\")\n",
    "        grandma.click()\n",
    "    if cn>fpr:\n",
    "        farm = driver.find_element(By.ID,\"product2\")\n",
    "        farm.click()\n",
    "    if cn>mpr:\n",
    "        mine = driver.find_element(By.ID,\"product3\")\n",
    "        mine.click()\n",
    "    if cn>fcpr:\n",
    "        factory = driver.find_element(By.ID,\"product4\")\n",
    "        factory.click()"
   ]
  },
  {
   "cell_type": "code",
   "execution_count": null,
   "id": "d54382e1-7a03-46c4-9fba-02b49dd3f87e",
   "metadata": {},
   "outputs": [],
   "source": []
  }
 ],
 "metadata": {
  "kernelspec": {
   "display_name": "Python [conda env:base] *",
   "language": "python",
   "name": "conda-base-py"
  },
  "language_info": {
   "codemirror_mode": {
    "name": "ipython",
    "version": 3
   },
   "file_extension": ".py",
   "mimetype": "text/x-python",
   "name": "python",
   "nbconvert_exporter": "python",
   "pygments_lexer": "ipython3",
   "version": "3.12.7"
  }
 },
 "nbformat": 4,
 "nbformat_minor": 5
}
