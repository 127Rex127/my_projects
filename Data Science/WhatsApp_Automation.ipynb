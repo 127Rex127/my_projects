{
 "cells": [
  {
   "cell_type": "code",
   "execution_count": 1,
   "id": "e6650994-bb20-4139-82d0-8a97f0060cb0",
   "metadata": {},
   "outputs": [],
   "source": [
    "from selenium import webdriver\n",
    "from selenium.webdriver.common.by import By\n",
    "from selenium.webdriver.common.keys import Keys\n",
    "import time\n"
   ]
  },
  {
   "cell_type": "code",
   "execution_count": 3,
   "id": "90e40ee0-0b4b-4b10-a351-3b530244dd87",
   "metadata": {},
   "outputs": [],
   "source": [
    "driver = webdriver.Chrome()\n",
    "driver.get(\"https://web.whatsapp.com\")\n"
   ]
  },
  {
   "cell_type": "code",
   "execution_count": 9,
   "id": "11261879-2227-4617-87ea-712bbe4a868e",
   "metadata": {
    "scrolled": true
   },
   "outputs": [],
   "source": [
    "phone_number = 85293832633\n",
    "driver.get(f\"https://web.whatsapp.com/send/?phone={phone_number}&text&type=phone_number&app_absent=0\")"
   ]
  },
  {
   "cell_type": "code",
   "execution_count": 11,
   "id": "e0ddcbe9-2e31-4d61-bd40-7c25a408e7d8",
   "metadata": {},
   "outputs": [],
   "source": [
    "element = driver.find_element(By.XPATH,'//div[@data-tab=\"10\"]')"
   ]
  },
  {
   "cell_type": "code",
   "execution_count": 13,
   "id": "b00e9260-497e-4bb8-b488-d105c8db064e",
   "metadata": {},
   "outputs": [],
   "source": [
    "element.send_keys('Hello')"
   ]
  },
  {
   "cell_type": "code",
   "execution_count": 120,
   "id": "1b0835dd-d0af-4e8a-afbd-1885b2a326de",
   "metadata": {},
   "outputs": [],
   "source": [
    "element.send_keys(Keys.ENTER)"
   ]
  },
  {
   "cell_type": "code",
   "execution_count": 15,
   "id": "b15b382e-ee3a-4650-b9a9-38db2cdbeb68",
   "metadata": {},
   "outputs": [],
   "source": [
    "plus = driver.find_element(By.XPATH,'//button[@data-tab=\"10\"]')"
   ]
  },
  {
   "cell_type": "code",
   "execution_count": 17,
   "id": "34277bf0-f66b-4867-a617-2b6052ed6681",
   "metadata": {},
   "outputs": [],
   "source": [
    "plus.click()"
   ]
  },
  {
   "cell_type": "code",
   "execution_count": 228,
   "id": "c425f1cc-db00-40e6-b09c-a22c111bb028",
   "metadata": {},
   "outputs": [],
   "source": [
    "pv = driver.find_element(By.XPATH,'//input[@accept=\"image/*,video/mp4,video/3gpp,video/quicktime\"]')"
   ]
  },
  {
   "cell_type": "code",
   "execution_count": 230,
   "id": "2763a05f-3d57-4921-802b-988fb380d3f7",
   "metadata": {},
   "outputs": [],
   "source": [
    "pv.send_keys(r'/Users/rexyam/Downloads/curry.jpg')"
   ]
  },
  {
   "cell_type": "code",
   "execution_count": 234,
   "id": "89c4c25c-3815-499e-b7a7-7d85d1e99927",
   "metadata": {},
   "outputs": [],
   "source": [
    "ac = driver.find_element(By.XPATH,'//div[@aria-label=\"Add a caption\"]')"
   ]
  },
  {
   "cell_type": "code",
   "execution_count": 236,
   "id": "881dedef-157e-4997-b822-059b6fc2da7d",
   "metadata": {},
   "outputs": [],
   "source": [
    "ac.send_keys('curry!')"
   ]
  },
  {
   "cell_type": "code",
   "execution_count": 238,
   "id": "b45e2a45-9858-4a37-8a67-055beb52566e",
   "metadata": {},
   "outputs": [],
   "source": [
    "ac.send_keys(Keys.ENTER)"
   ]
  },
  {
   "cell_type": "code",
   "execution_count": 122,
   "id": "f6e98883-067e-44b3-ab10-fc543a041f46",
   "metadata": {
    "collapsed": true,
    "jupyter": {
     "outputs_hidden": true
    },
    "scrolled": true
   },
   "outputs": [
    {
     "name": "stdout",
     "output_type": "stream",
     "text": [
      "Message1:Sent\n",
      "Message2:Sent\n",
      "Message3:Sent\n",
      "Message4:Sent\n",
      "Message5:Sent\n",
      "Message6:Sent\n"
     ]
    },
    {
     "ename": "KeyboardInterrupt",
     "evalue": "",
     "output_type": "error",
     "traceback": [
      "\u001b[0;31m---------------------------------------------------------------------------\u001b[0m",
      "\u001b[0;31mKeyboardInterrupt\u001b[0m                         Traceback (most recent call last)",
      "Cell \u001b[0;32mIn[122], line 5\u001b[0m\n\u001b[1;32m      3\u001b[0m element\u001b[38;5;241m.\u001b[39msend_keys(Keys\u001b[38;5;241m.\u001b[39mENTER)\n\u001b[1;32m      4\u001b[0m \u001b[38;5;28mprint\u001b[39m(\u001b[38;5;124mf\u001b[39m\u001b[38;5;124m\"\u001b[39m\u001b[38;5;124mMessage\u001b[39m\u001b[38;5;132;01m{\u001b[39;00mi\u001b[38;5;132;01m}\u001b[39;00m\u001b[38;5;124m:Sent\u001b[39m\u001b[38;5;124m\"\u001b[39m)\n\u001b[0;32m----> 5\u001b[0m time\u001b[38;5;241m.\u001b[39msleep(\u001b[38;5;241m2\u001b[39m)\n",
      "\u001b[0;31mKeyboardInterrupt\u001b[0m: "
     ]
    }
   ],
   "source": [
    "for i in range(1,11):\n",
    "    element.send_keys('okay')\n",
    "    element.send_keys(Keys.ENTER)\n",
    "    print(f\"Message{i}:Sent\")\n",
    "    time.sleep(2)"
   ]
  },
  {
   "cell_type": "code",
   "execution_count": 144,
   "id": "91419b87-9109-4192-a974-d52ea0029ec7",
   "metadata": {},
   "outputs": [],
   "source": [
    "my_message = ['hey','hi','hello']"
   ]
  },
  {
   "cell_type": "code",
   "execution_count": 146,
   "id": "135ac8bc-3a5c-4638-8634-3c798e9f7566",
   "metadata": {},
   "outputs": [
    {
     "name": "stdout",
     "output_type": "stream",
     "text": [
      "Message:hey Sent\n",
      "Message:hi Sent\n",
      "Message:hello Sent\n"
     ]
    }
   ],
   "source": [
    "for i in my_message:\n",
    "    element.send_keys(i)\n",
    "    element.send_keys(Keys.ENTER)\n",
    "    print(f\"Message:{i} Sent\")\n",
    "    time.sleep(1)"
   ]
  },
  {
   "cell_type": "code",
   "execution_count": 329,
   "id": "4f4d639e-ac32-498c-81b6-01296a7530f9",
   "metadata": {},
   "outputs": [],
   "source": [
    "phone_no = {'Rex':'85293832633','Ericson':'85253093660'}"
   ]
  },
  {
   "cell_type": "code",
   "execution_count": 313,
   "id": "08e87453-70bd-436e-a76f-d588b68b0c10",
   "metadata": {},
   "outputs": [
    {
     "name": "stdout",
     "output_type": "stream",
     "text": [
      "Rex 85293832633\n",
      "Ericson 85253093660\n",
      "Mum 85291006982\n"
     ]
    }
   ],
   "source": [
    "for i,v in zip(phone_no,phone_no.values()):#zip is looping through different things at the same time\n",
    "    print(i,v)\n",
    "    driver.get(f\"https://web.whatsapp.com/send/?phone={v}&text&type=phone_number&app_absent=0\")\n",
    "    time.sleep(6)\n",
    "    element = driver.find_element(By.XPATH,'//div[@data-tab=\"10\"]')\n",
    "    element.send_keys(f\"Hi {i}\")\n",
    "    element.send_keys(Keys.ENTER)\n",
    "    time.sleep(2)"
   ]
  },
  {
   "cell_type": "code",
   "execution_count": null,
   "id": "ee95f4b6-7bef-4287-a5c3-0b73845163b8",
   "metadata": {},
   "outputs": [],
   "source": [
    "for r,x in zip(phone_no,phone_no.values()):\n",
    "    text = f\"\"\"Hi {r},\n",
    "    \n",
    "Right now we have a 50% discount on our clothes. If you are interested please call 12345678!\n",
    "\n",
    "Thanks,\n",
    "Rex's Shop\n",
    "                \"\"\"\n",
    "    driver.get(f\"https://web.whatsapp.com/send/?phone={x}&text&type=phone_number&app_absent=0\")\n",
    "    time.sleep(6)\n",
    "    plus = driver.find_element(By.XPATH,'//button[@data-tab=\"10\"]')\n",
    "    plus.click()\n",
    "    pv = driver.find_element(By.XPATH,'//input[@accept=\"image/*,video/mp4,video/3gpp,video/quicktime\"]')\n",
    "    pv.send_keys(r'/Users/rexyam/Downloads/50%discount.jpg')\n",
    "    time.sleep(2)\n",
    "    ac = driver.find_element(By.XPATH,'//div[@aria-label=\"Add a caption\"]')\n",
    "    for i in text.split('\\n'):\n",
    "         ac.send_keys(i)\n",
    "         ac.send_keys(Keys.SHIFT,Keys.ENTER)\n",
    "    ac.send_keys(Keys.ENTER)\n",
    "    time.sleep(2)"
   ]
  },
  {
   "cell_type": "code",
   "execution_count": 351,
   "id": "9edc9fd2-8102-405c-a8c1-9aa432d4a1d6",
   "metadata": {},
   "outputs": [],
   "source": [
    "for r,x in zip(phone_no,phone_no.values()):\n",
    "    text = f\"\"\"Hi {r},\n",
    "    \n",
    "Right now we have a 50% discount on our clothes. If you are interested please call 12345678!\n",
    "\n",
    "Thanks,\n",
    "Rex's Shop\n",
    "                \"\"\"\n",
    "    driver.get(f\"https://web.whatsapp.com/send/?phone={x}&text&type=phone_number&app_absent=0\")\n",
    "    time.sleep(6)\n",
    "    plus = driver.find_element(By.XPATH,'//button[@data-tab=\"10\"]')\n",
    "    plus.click()\n",
    "    pv = driver.find_element(By.XPATH,'//input[@accept=\"image/*,video/mp4,video/3gpp,video/quicktime\"]')\n",
    "    pv.send_keys(r'/Users/rexyam/Downloads/50%discount.jpg')\n",
    "    time.sleep(2)\n",
    "    ac = driver.find_element(By.XPATH,'//div[@aria-label=\"Add a caption\"]')\n",
    "    for i in text.split('\\n'):\n",
    "         ac.send_keys(i)\n",
    "         ac.send_keys(Keys.SHIFT,Keys.ENTER)\n",
    "    ac.send_keys(Keys.ENTER)\n",
    "    time.sleep(2)"
   ]
  },
  {
   "cell_type": "code",
   "execution_count": null,
   "id": "a66bf55f-1a21-4e1e-922d-cc641af8d463",
   "metadata": {},
   "outputs": [],
   "source": []
  },
  {
   "cell_type": "code",
   "execution_count": null,
   "id": "aff3feb1-1293-46e1-a493-515b2a5d187a",
   "metadata": {},
   "outputs": [],
   "source": []
  },
  {
   "cell_type": "code",
   "execution_count": null,
   "id": "5d095866-6fc1-4dcd-a3f2-7d9e3a411166",
   "metadata": {},
   "outputs": [],
   "source": []
  },
  {
   "cell_type": "code",
   "execution_count": null,
   "id": "d3c01ac5-5522-46bb-952b-8e5a5f518127",
   "metadata": {},
   "outputs": [],
   "source": []
  },
  {
   "cell_type": "code",
   "execution_count": null,
   "id": "89d3b184-5be7-4c75-ae9b-534ce5bb520c",
   "metadata": {},
   "outputs": [],
   "source": []
  },
  {
   "cell_type": "code",
   "execution_count": null,
   "id": "8d23b0f3-f06e-4264-a12e-646f87666027",
   "metadata": {},
   "outputs": [],
   "source": []
  },
  {
   "cell_type": "code",
   "execution_count": null,
   "id": "78a02d30-18ff-4a9d-8112-bd285cf0012a",
   "metadata": {},
   "outputs": [],
   "source": []
  }
 ],
 "metadata": {
  "kernelspec": {
   "display_name": "Python [conda env:base] *",
   "language": "python",
   "name": "conda-base-py"
  },
  "language_info": {
   "codemirror_mode": {
    "name": "ipython",
    "version": 3
   },
   "file_extension": ".py",
   "mimetype": "text/x-python",
   "name": "python",
   "nbconvert_exporter": "python",
   "pygments_lexer": "ipython3",
   "version": "3.12.7"
  }
 },
 "nbformat": 4,
 "nbformat_minor": 5
}
